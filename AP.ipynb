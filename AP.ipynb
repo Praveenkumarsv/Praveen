{
  "nbformat": 4,
  "nbformat_minor": 0,
  "metadata": {
    "colab": {
      "name": "AP.ipynb",
      "provenance": [],
      "authorship_tag": "ABX9TyM3xzk0Ty4+k8nlotk5SSyI",
      "include_colab_link": true
    },
    "kernelspec": {
      "display_name": "Python 3",
      "name": "python3"
    },
    "language_info": {
      "name": "python"
    }
  },
  "cells": [
    {
      "cell_type": "markdown",
      "metadata": {
        "id": "view-in-github",
        "colab_type": "text"
      },
      "source": [
        "<a href=\"https://colab.research.google.com/github/Praveenkumarsv/Praveen/blob/main/AP.ipynb\" target=\"_parent\"><img src=\"https://colab.research.google.com/assets/colab-badge.svg\" alt=\"Open In Colab\"/></a>"
      ]
    },
    {
      "cell_type": "markdown",
      "metadata": {
        "id": "5oUKQdz5YlmK"
      },
      "source": [
        ""
      ]
    },
    {
      "cell_type": "code",
      "metadata": {
        "id": "nUh1YXLZOJbD",
        "colab": {
          "base_uri": "https://localhost:8080/"
        },
        "outputId": "85296cbe-5dbe-4bf7-9f26-0a38f275324f"
      },
      "source": [
        " Fruits=[\"banana\",\"mango\",\"orange\",\"guava\",\"Pineapple\"]\n",
        "Fruits.append(\"apple\")\n",
        "Fruits.remove(\"orange\")\n",
        "Fruits.sort()\n",
        "print(Fruits)\n",
        "\n",
        "  \n",
        "\n",
        "\n",
        "\n",
        "\n",
        "\n",
        "\n",
        "\n",
        "\n"
      ],
      "execution_count": null,
      "outputs": [
        {
          "output_type": "stream",
          "text": [
            "['Pineapple', 'apple', 'banana', 'guava', 'mango']\n"
          ],
          "name": "stdout"
        }
      ]
    },
    {
      "cell_type": "code",
      "metadata": {
        "colab": {
          "base_uri": "https://localhost:8080/"
        },
        "id": "fEa7lVkW-I3V",
        "outputId": "eec860d6-3239-45b2-f39b-79b0e0d01d64"
      },
      "source": [
        "#tuple\n",
        "fruits=(\"banana\",\"mango\",\"orange\",\"guava\",\"Pineapple\")\n",
        "student=[(\"kavhein\",\"maths\",\"85\"),(\"aravindh\",\"maths\",\"90\")]\n",
        "\n",
        "print(fruits)\n",
        "print(student)"
      ],
      "execution_count": null,
      "outputs": [
        {
          "output_type": "stream",
          "text": [
            "('banana', 'mango', 'orange', 'guava', 'Pineapple')\n",
            "[('kavhein', 'maths', '85'), ('aravindh', 'maths', '90')]\n"
          ],
          "name": "stdout"
        }
      ]
    },
    {
      "cell_type": "code",
      "metadata": {
        "colab": {
          "base_uri": "https://localhost:8080/",
          "height": 128
        },
        "id": "aq5HCHWCARsq",
        "outputId": "a4c50733-91f7-4c36-98df-84128605c12d"
      },
      "source": [
        "#set\n",
        "fruits={\"banana\",\"mango\",\"orange\",\"guava\",\"Pineapple\"}\n",
        " print(fruits)\n"
      ],
      "execution_count": null,
      "outputs": [
        {
          "output_type": "error",
          "ename": "IndentationError",
          "evalue": "ignored",
          "traceback": [
            "\u001b[0;36m  File \u001b[0;32m\"<ipython-input-56-9ce783b622cd>\"\u001b[0;36m, line \u001b[0;32m3\u001b[0m\n\u001b[0;31m    print(fruits)\u001b[0m\n\u001b[0m    ^\u001b[0m\n\u001b[0;31mIndentationError\u001b[0m\u001b[0;31m:\u001b[0m unexpected indent\n"
          ]
        }
      ]
    },
    {
      "cell_type": "code",
      "metadata": {
        "colab": {
          "base_uri": "https://localhost:8080/"
        },
        "id": "54p5upbHBHbY",
        "outputId": "66aef36e-7c2e-40f3-91f3-bf7631318dcf"
      },
      "source": [
        "#dictionaries\n",
        "student={\"name\":\"praveen\",\"subject\":\"maths\",\"marks\":\"100\"}\n",
        "print(student)"
      ],
      "execution_count": null,
      "outputs": [
        {
          "output_type": "stream",
          "text": [
            "{'name': 'praveen', 'subject': 'maths', 'marks': '100'}\n"
          ],
          "name": "stdout"
        }
      ]
    },
    {
      "cell_type": "code",
      "metadata": {
        "colab": {
          "base_uri": "https://localhost:8080/",
          "height": 128
        },
        "id": "3KuOmDpyAtnR",
        "outputId": "470c11cd-a71d-4279-897d-fce048aa43f4"
      },
      "source": [
        "#students,dictionaries\n",
        "student=[{\"name\":\"praveen\",\"subject\":\"math\"},{\"name\":\"pranav\",\"subject\":\"science\"},{\"name\":\"praveen\",\"subject\":\"social}]\n",
        "for i in students:\n",
        "  K=0\n",
        "  a=students[k]['name']\n",
        "  if(a==  ) "
      ],
      "execution_count": null,
      "outputs": [
        {
          "output_type": "error",
          "ename": "SyntaxError",
          "evalue": "ignored",
          "traceback": [
            "\u001b[0;36m  File \u001b[0;32m\"<ipython-input-58-24e49044bb07>\"\u001b[0;36m, line \u001b[0;32m2\u001b[0m\n\u001b[0;31m    student=[{\"name\":\"praveen\",\"subject\":\"math\"},{\"name\":\"pranav\",\"subject\":\"science\"},{\"name\":\"praveen\",\"subject\":\"social}]\u001b[0m\n\u001b[0m                                                                                                                            ^\u001b[0m\n\u001b[0;31mSyntaxError\u001b[0m\u001b[0;31m:\u001b[0m EOL while scanning string literal\n"
          ]
        }
      ]
    },
    {
      "cell_type": "code",
      "metadata": {
        "colab": {
          "base_uri": "https://localhost:8080/"
        },
        "id": "qKtAkhmGSG2Y",
        "outputId": "d77e7333-56a7-4d4d-9f22-e09ba6cc75b7"
      },
      "source": [
        "a=int(input(\"enter first number\"))\n",
        "b=int(input(\"enter second number\"))\n",
        "a=int(20)\n",
        "b=int(30)\n",
        "print(a+b)\n",
        "print(a-b)\n",
        "print(a*b)\n",
        "print(a%b)   \n",
        "\n",
        " "
      ],
      "execution_count": null,
      "outputs": [
        {
          "output_type": "stream",
          "text": [
            "enter first number20\n",
            "enter second number30\n",
            "50\n",
            "-10\n",
            "600\n",
            "20\n"
          ],
          "name": "stdout"
        }
      ]
    },
    {
      "cell_type": "code",
      "metadata": {
        "id": "M4GgdXD13gbz"
      },
      "source": [
        ""
      ],
      "execution_count": null,
      "outputs": []
    },
    {
      "cell_type": "code",
      "metadata": {
        "id": "Aag4_RynzQ80"
      },
      "source": [
        "a=float(input(\"Enter a number not an variable or operation:\"))#1\n",
        "b=float(input(\"Enter a number not a variable or operation again:\"))#2\n",
        "c=str(input(\"now you can enter a operation but no variable or number:\"))#3\n",
        "if (c=='+'):                       #4\n",
        "   print(\"waaaw The awesome answer is \",a+b)   #5\n",
        "elif (c=='-'):                                 #6\n",
        "   print(\"Aumsum.the result is \",a-b)     #7\n",
        "elif (c=='*'):                    #8\n",
        "   print(\"oh my gawd!!! waaww! the answer is \",a*b)  #9\n",
        "elif (c=='/'):                  #10\n",
        "   print(\"Finito!Answer is:\",a/b)     #11\n",
        "else:\n",
        "   print(\"Please type +,-,or/operation\") #13\n",
        "  \n",
        "\n",
        "\n",
        "\n"
      ],
      "execution_count": null,
      "outputs": []
    },
    {
      "cell_type": "code",
      "metadata": {
        "id": "kv3xEBzh8xRU"
      },
      "source": [
        "#an=a1+(n-1)d\n",
        "a1=int (input('enter a1'))\n",
        "d=int (input('enter d'))\n",
        "n=int (input('enter n'))\n",
        "b=int (input('enter b'))\n",
        "\n",
        "a = a1 + (n-1)*d\n",
        "print(\"an\")"
      ],
      "execution_count": null,
      "outputs": []
    },
    {
      "cell_type": "code",
      "metadata": {
        "id": "MIOELxga6QcY"
      },
      "source": [
        "print(1)\n",
        "print(2)\n",
        "print(3)\n",
        "print(4)\n",
        "\n",
        "n=1\n",
        "while True:\n",
        "  print(n)\n",
        "  n = n +1\n",
        "  print(0.5)\n"
      ],
      "execution_count": null,
      "outputs": []
    },
    {
      "cell_type": "code",
      "metadata": {
        "id": "f0zarTbPYi-S"
      },
      "source": [
        "1 import webbrowser\n",
        "2 from tkinter import*\n",
        "3 root = Tk()\n",
        "4 root.title(\"webBrowser\")\n",
        "5 root.geometry(\"300*200\")\n",
        "6 def google():\n",
        "7     webbrowser.open(\"ww.google.com\")\n",
        "8 mygoogle=Buttom(root,text=\"open Google\",comman=google).pack(pady=20)\n",
        "9 root.mainloop()"
      ],
      "execution_count": null,
      "outputs": []
    },
    {
      "cell_type": "code",
      "metadata": {
        "id": "tF3HhfAcdzYC",
        "colab": {
          "base_uri": "https://localhost:8080/",
          "height": 295
        },
        "outputId": "256ae022-7404-4d82-b183-90b456a4de35"
      },
      "source": [
        "from matplotlib import pyplot as plt\n",
        "\n",
        "players=['john','Ronaldo','TripleH','Brock']\n",
        "\n",
        "score=[51,87,45,67]\n",
        "\n",
        "plt.bar(players,score,color='red')\n",
        "plt.title('score card')\n",
        "plt.xlabel('Players')\n",
        "plt.ylabel('Runs')\n",
        "plt.show()\n",
        "\n"
      ],
      "execution_count": null,
      "outputs": [
        {
          "output_type": "display_data",
          "data": {
            "image/png": "[encoded data removed]",
            "text/plain": [
              "<Figure size 432x288 with 1 Axes>"
            ]
          },
          "metadata": {
            "tags": [],
            "needs_background": "light"
          }
        }
      ]
    },
    {
      "cell_type": "code",
      "metadata": {
        "colab": {
          "base_uri": "https://localhost:8080/",
          "height": 128
        },
        "id": "qtTVQE39lzbx",
        "outputId": "0bb6aee8-3c35-460c-c243-faf447f24cad"
      },
      "source": [
        "1def recursive_list_sum(data_list):\n",
        "2     total=0\n",
        "3     for element in data_list:\n",
        "4         if type(element) ==type([]):\n",
        "5             total = total + recursive_list_sum(element)\n",
        "6         else:\n",
        "7             total = total + element\n",
        "8\n",
        "9 return total\n",
        "10print(recursive_list_sum([1,2[3,4],[5,6]]))\n",
        "\n"
      ],
      "execution_count": null,
      "outputs": [
        {
          "output_type": "error",
          "ename": "SyntaxError",
          "evalue": "ignored",
          "traceback": [
            "\u001b[0;36m  File \u001b[0;32m\"<ipython-input-12-2a332f40fbca>\"\u001b[0;36m, line \u001b[0;32m1\u001b[0m\n\u001b[0;31m    1def recursive_list_sum(data_list):\u001b[0m\n\u001b[0m       ^\u001b[0m\n\u001b[0;31mSyntaxError\u001b[0m\u001b[0;31m:\u001b[0m invalid syntax\n"
          ]
        }
      ]
    },
    {
      "cell_type": "code",
      "metadata": {
        "id": "DZQ0Wlzsrbtw",
        "colab": {
          "base_uri": "https://localhost:8080/",
          "height": 128
        },
        "outputId": "1df66f95-b7ae-40af-933d-3f539d9fd5b1"
      },
      "source": [
        "lis=list(map(str,input(\"Enter\").split()))\n",
        " print(lis[0])\n",
        " print(lis[1])\n",
        " print(lis[2])"
      ],
      "execution_count": null,
      "outputs": [
        {
          "output_type": "error",
          "ename": "SyntaxError",
          "evalue": "ignored",
          "traceback": [
            "\u001b[0;36m  File \u001b[0;32m\"<ipython-input-19-96656a1b65a7>\"\u001b[0;36m, line \u001b[0;32m1\u001b[0m\n\u001b[0;31m    1 lis=list(map(str,input(\"Enter\").split()))\u001b[0m\n\u001b[0m        ^\u001b[0m\n\u001b[0;31mSyntaxError\u001b[0m\u001b[0;31m:\u001b[0m invalid syntax\n"
          ]
        }
      ]
    },
    {
      "cell_type": "code",
      "metadata": {
        "id": "kciOop4pswyN",
        "colab": {
          "base_uri": "https://localhost:8080/"
        },
        "outputId": "e6f1d3e1-503e-488f-dad7-7472f53d179c"
      },
      "source": [
        "a=input(\"Enter\")\n",
        "b=input(\"Enter\")\n",
        "c=input(\"Enter\")\n",
        "print(a)\n",
        "print(b)\n",
        "print(c)\n"
      ],
      "execution_count": null,
      "outputs": [
        {
          "output_type": "stream",
          "text": [
            "Enterfollow\n",
            "Enterpython\n",
            "Enterhub\n",
            "follow\n",
            "python\n",
            "hub\n"
          ],
          "name": "stdout"
        }
      ]
    },
    {
      "cell_type": "code",
      "metadata": {
        "colab": {
          "base_uri": "https://localhost:8080/"
        },
        "id": "weqVdAf2rpL6",
        "outputId": "06902cd9-3f86-4c07-ee00-073c2607d858"
      },
      "source": [
        "#add\n",
        "a = {\"name\":\"Praveen\",\"subject\":\"maths\",\"marks\":\"100\"}\n",
        "a[\"b\"]=(\"10\")\n",
        "print(a)\n",
        "\n",
        "#sort\n",
        "a={\"a\":\"4\",\"c\":\"5\",\"b\":\"6\"}\n",
        "b=sorted(a)\n",
        "print(b)\n",
        "\n",
        "#reverse sort\n",
        "a={\"a\":\"4\",\"c\":\"5\",\"b\":\"6\"}\n",
        "b=sorted(a,reverse=True)\n",
        "print(b)\n",
        "      "
      ],
      "execution_count": 3,
      "outputs": [
        {
          "output_type": "stream",
          "text": [
            "{'name': 'Praveen', 'subject': 'maths', 'marks': '100', 'b': '10'}\n",
            "['a', 'b', 'c']\n",
            "['c', 'b', 'a']\n"
          ],
          "name": "stdout"
        }
      ]
    },
    {
      "cell_type": "code",
      "metadata": {
        "id": "daiG7HBFuaWV"
      },
      "source": [
        "import turtle\n",
        "s= turtle.screen()bgcolor('black')\n",
        "t = turtle.Turtle()\n",
        "t.speed(0)\n",
        "t.width(12)\n",
        "\n",
        "def curve():\n",
        "    for i in range(200):\n",
        "        t.right(1)\n",
        "        t.forward(1)\n",
        "\n",
        "def heart():\n",
        "    t.color('red','red')\n",
        "    t.begin_fill()\n",
        "    t.left(140)\n",
        "    t.forward(113)\n",
        "    curve()\n",
        "    t.left(120)\n",
        "    curve()\n",
        "    t.forward(112)\n",
        "    t.end_fill()\n",
        "\n",
        "heart()\n",
        "t.pencolor('black')\n",
        "t.penup()\n",
        "t.goto(0,170)\n",
        "t.pendown()\n",
        "for zigzag in range(3):\n",
        "    t.left(175)\n",
        "    t.forward(40)\n",
        "    t.t=right(65)\n",
        "    t.forward(40)  \n"
      ],
      "execution_count": null,
      "outputs": []
    }
  ]
}